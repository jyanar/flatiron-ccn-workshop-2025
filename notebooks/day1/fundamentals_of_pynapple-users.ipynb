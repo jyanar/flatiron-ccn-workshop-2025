{
 "cells": [
  {
   "cell_type": "code",
   "execution_count": 1,
   "id": "c01cb7c2",
   "metadata": {
    "tags": [
     "render-all"
    ]
   },
   "outputs": [],
   "source": [
    "%matplotlib inline"
   ]
  },
  {
   "cell_type": "markdown",
   "id": "46f06208",
   "metadata": {},
   "source": [
    ":::{admonition} Download\n",
    ":class: important render-all\n",
    "\n",
    "This notebook can be downloaded as **{nb-download}`fundamentals_of_pynapple-users.ipynb`**. See the button at the top right to download as markdown or pdf.\n",
    ":::\n",
    "\n",
    "\n",
    "# Learning the fundamentals of pynapple\n",
    "This notebook has had all its explanatory text removed and has not been run.\n",
    " It is intended to be downloaded and run locally (or on the provided binder)\n",
    " while listening to the presenter's explanation. In order to see the fully\n",
    " rendered of this notebook, go [here](../../full/day1/fundamentals_of_pynapple.md)\n",
    "\n",
    "## Learning objectives\n",
    "\n",
    "\n",
    "- Instantiate the pynapple objects\n",
    "- Make the pynapple objects interact\n",
    "- Use numpy with pynapple\n",
    "- Slicing pynapple objects\n",
    "- Adding metadata to pynapple objects\n",
    "- Learn the core functions of pynapple\n",
    "\n",
    "The pynapple documentation can be found [here](https://pynapple.org).\n",
    "\n",
    "The documentation for objects and method of the core of pynapple is [here](https://pynapple.org/api.html).\n",
    "\n",
    "\n",
    "Let's start by importing the pynapple package and matplotlib to see if everything is correctly installed.\n",
    "If an import fails, you can do `!pip install pynapple matplotlib` in a cell to fix it."
   ]
  },
  {
   "cell_type": "code",
   "execution_count": 141,
   "id": "7b931b85",
   "metadata": {
    "tags": [
     "render-all"
    ]
   },
   "outputs": [],
   "source": [
    "import pynapple as nap\n",
    "import matplotlib.pyplot as plt\n",
    "import numpy as np\n",
    "import workshop_utils"
   ]
  },
  {
   "cell_type": "code",
   "execution_count": 142,
   "id": "c7012c15",
   "metadata": {
    "tags": [
     "render-all"
    ]
   },
   "outputs": [],
   "source": [
    "var1 = np.random.randn(100) # Variable 1\n",
    "tsp1 = np.arange(100) # The timesteps of variable 1\n",
    "\n",
    "var2 = np.random.randn(100, 3) # Variable 2\n",
    "tsp2 = np.arange(0, 100, 1) # The timesteps of variable 2\n",
    "col2 = ['pineapple', 'banana', 'tomato'] # The name of each columns of var2\n",
    "\n",
    "var3 = np.random.randn(1000, 4, 5) # Variable 3\n",
    "tsp3 = np.arange(0, 100, 0.1) # The timesteps of variable 3\n",
    "\n",
    "random_times_1 = np.array([3.14, 37.0, 42.0])\n",
    "random_times_2 = np.array([10, 25, 50, 70])\n",
    "random_times_3 = np.sort(np.random.uniform(10, 80, 100))\n",
    "\n",
    "starts_1 = np.array([10000, 60000, 90000]) # starts of an epoch in `ms`\n",
    "ends_1 = np.array([20000, 80000, 95000]) # ends in `ms`"
   ]
  },
  {
   "cell_type": "markdown",
   "id": "dedd79b1",
   "metadata": {},
   "source": [
    "## Instantiate pynapple objects \n",
    "\n",
    "\n",
    "**Question:** Can you instantiate the right pynapple objects for `var1`, `var2` and `var3`? Objects should be named respectively `tsd1`, `tsd2` and `tsd3`. Don't forget the column name for `var2`."
   ]
  },
  {
   "cell_type": "code",
   "execution_count": 143,
   "id": "ceffd9c7",
   "metadata": {},
   "outputs": [],
   "source": [
    "# enter code here\n",
    "tsd1 = nap.Tsd(t=tsp1, d=var1)\n",
    "tsd2 = nap.TsdFrame(t=tsp2, d=var2, columns=col2)\n",
    "tsd3 = nap.TsdTensor(t=tsp3, d=var3)"
   ]
  },
  {
   "cell_type": "markdown",
   "id": "b33eb61d",
   "metadata": {},
   "source": [
    "**Question:** Can you print `tsd1`?"
   ]
  },
  {
   "cell_type": "code",
   "execution_count": 144,
   "id": "953bd93d",
   "metadata": {},
   "outputs": [
    {
     "data": {
      "text/plain": [
       "Time (s)\n",
       "----------  ----------\n",
       "0.0          0.275093\n",
       "1.0          1.30653\n",
       "2.0         -0.983989\n",
       "3.0          0.0753501\n",
       "4.0          2.4675\n",
       "5.0         -0.830946\n",
       "6.0         -0.363743\n",
       "...\n",
       "93.0         1.49214\n",
       "94.0         0.12468\n",
       "95.0        -1.44793\n",
       "96.0        -0.695265\n",
       "97.0        -1.30764\n",
       "98.0         0.994659\n",
       "99.0         1.9119\n",
       "dtype: float64, shape: (100,)"
      ]
     },
     "execution_count": 144,
     "metadata": {},
     "output_type": "execute_result"
    }
   ],
   "source": [
    "tsd1"
   ]
  },
  {
   "cell_type": "markdown",
   "id": "1ccfe272",
   "metadata": {},
   "source": [
    "**Question:** Can you print `tsd2`?"
   ]
  },
  {
   "cell_type": "code",
   "execution_count": 145,
   "id": "1c6f56ec",
   "metadata": {},
   "outputs": [
    {
     "data": {
      "text/plain": [
       "Time (s)    pineapple    banana    tomato\n",
       "----------  -----------  --------  --------\n",
       "0.0         0.46104      -1.27263  -0.95473\n",
       "1.0         0.06074      -0.26644  1.33014\n",
       "2.0         -1.14363     -0.66458  0.48703\n",
       "3.0         -1.9073      0.61592   0.35012\n",
       "4.0         0.39992      1.05771   -1.07964\n",
       "5.0         0.58122      -0.51725  0.3182\n",
       "6.0         0.59462      -0.80521  1.31528\n",
       "...         ...          ...       ...\n",
       "93.0        -0.61733     -0.93069  -0.79424\n",
       "94.0        -0.1283      -0.63549  1.01334\n",
       "95.0        -1.97964     0.95089   -0.47257\n",
       "96.0        0.87341      -0.9485   1.76025\n",
       "97.0        -1.94188     0.6937    -0.61822\n",
       "98.0        0.4549       -2.58104  0.43296\n",
       "99.0        -1.60526     -0.65391  -0.14758\n",
       "dtype: float64, shape: (100, 3)"
      ]
     },
     "execution_count": 145,
     "metadata": {},
     "output_type": "execute_result"
    }
   ],
   "source": [
    "tsd2"
   ]
  },
  {
   "cell_type": "markdown",
   "id": "87ad73db",
   "metadata": {},
   "source": [
    "**Question:** Can you print `tsd3`?"
   ]
  },
  {
   "cell_type": "code",
   "execution_count": 146,
   "id": "1368dd63",
   "metadata": {},
   "outputs": [
    {
     "data": {
      "text/plain": [
       "Time (s)\n",
       "----------  -------------------------------\n",
       "0.0         [[0.242297 ... 1.257742] ...]\n",
       "0.1         [[-0.198991 ...  0.55856 ] ...]\n",
       "0.2         [[0.593318 ... 0.743173] ...]\n",
       "0.3         [[ 0.886922 ... -0.705494] ...]\n",
       "0.4         [[-1.10168  ... -0.209402] ...]\n",
       "0.5         [[-1.688731 ...  0.162456] ...]\n",
       "0.6         [[ 0.027717 ... -0.019335] ...]\n",
       "...\n",
       "99.3        [[-0.274319 ... -0.329643] ...]\n",
       "99.4        [[1.635817 ... 0.01693 ] ...]\n",
       "99.5        [[ 0.205889 ... -1.240806] ...]\n",
       "99.6        [[ 0.013774 ... -0.446888] ...]\n",
       "99.7        [[ 1.825831 ... -0.591683] ...]\n",
       "99.8        [[0.567869 ... 1.652038] ...]\n",
       "99.9        [[-0.81142  ... -0.691759] ...]\n",
       "dtype: float64, shape: (1000, 4, 5)"
      ]
     },
     "execution_count": 146,
     "metadata": {},
     "output_type": "execute_result"
    }
   ],
   "source": [
    "tsd3"
   ]
  },
  {
   "cell_type": "markdown",
   "id": "36d20430",
   "metadata": {},
   "source": [
    "**Question:** Can you create an `IntervalSet` called `ep` out of `starts_1` and `ends_1` and print it? Be careful, times given above are in `ms`."
   ]
  },
  {
   "cell_type": "code",
   "execution_count": 147,
   "id": "7237a65f",
   "metadata": {},
   "outputs": [
    {
     "data": {
      "text/plain": [
       "  index    start    end\n",
       "      0       10     20\n",
       "      1       60     80\n",
       "      2       90     95\n",
       "shape: (3, 2), time unit: sec."
      ]
     },
     "execution_count": 147,
     "metadata": {},
     "output_type": "execute_result"
    }
   ],
   "source": [
    "ep = nap.IntervalSet(start=starts_1, end=ends_1, time_units='ms')\n",
    "ep"
   ]
  },
  {
   "cell_type": "markdown",
   "id": "eb7a5468",
   "metadata": {},
   "source": [
    "The experiment generated a set of timestamps from 3 different channels.\n",
    "\n",
    "**Question:** Can you instantiate the corresponding pynapple object (`ts1`, `ts2`, `ts3`) for each one of them?"
   ]
  },
  {
   "cell_type": "code",
   "execution_count": 148,
   "id": "98e78f6b",
   "metadata": {},
   "outputs": [],
   "source": [
    "ts1 = nap.Ts(random_times_1)\n",
    "ts2 = nap.Ts(random_times_2)\n",
    "ts3 = nap.Ts(random_times_3)"
   ]
  },
  {
   "cell_type": "markdown",
   "id": "b80bb125",
   "metadata": {},
   "source": [
    "This is a lot of timestamps to carry around as well.\n",
    "\n",
    "**Question:** Can you instantiate the right pynapple object (call it `tsgroup`) to group them together?"
   ]
  },
  {
   "cell_type": "code",
   "execution_count": 149,
   "id": "88c51344",
   "metadata": {},
   "outputs": [],
   "source": [
    "tsgroup = nap.TsGroup(\n",
    "    data={\n",
    "        0: ts1,\n",
    "        1: ts2,\n",
    "        2: ts3\n",
    "    },\n",
    ")"
   ]
  },
  {
   "cell_type": "markdown",
   "id": "9d72319f",
   "metadata": {},
   "source": [
    "**Question:** ... and print it?"
   ]
  },
  {
   "cell_type": "code",
   "execution_count": 150,
   "id": "b20ba842",
   "metadata": {},
   "outputs": [
    {
     "data": {
      "text/plain": [
       "  Index     rate\n",
       "-------  -------\n",
       "      0  0.03906\n",
       "      1  0.05209\n",
       "      2  1.30216"
      ]
     },
     "execution_count": 150,
     "metadata": {},
     "output_type": "execute_result"
    }
   ],
   "source": [
    "tsgroup"
   ]
  },
  {
   "cell_type": "markdown",
   "id": "1cf4b587",
   "metadata": {},
   "source": [
    "## Interaction between pynapple objects \n",
    "\n",
    "\n",
    "**Question:** Can you print the `time_support` of `tsgroup`?"
   ]
  },
  {
   "cell_type": "code",
   "execution_count": 151,
   "id": "a1c9d8b2",
   "metadata": {},
   "outputs": [
    {
     "data": {
      "text/plain": [
       "  index    start      end\n",
       "      0     3.14  79.9354\n",
       "shape: (1, 2), time unit: sec."
      ]
     },
     "execution_count": 151,
     "metadata": {},
     "output_type": "execute_result"
    }
   ],
   "source": [
    "# It looks like time_support is initialized (since it wasn't passed) to\n",
    "# start at the first timestamp and end on the last timestamp\n",
    "tsgroup.time_support"
   ]
  },
  {
   "cell_type": "markdown",
   "id": "b8b091c0",
   "metadata": {},
   "source": [
    "**Question:** can you recreate the `tsgroup` object passing the right `time_support` during initialisation?"
   ]
  },
  {
   "cell_type": "code",
   "execution_count": 152,
   "id": "84bf5a02",
   "metadata": {},
   "outputs": [],
   "source": [
    "tsgroup = nap.TsGroup(\n",
    "    data={\n",
    "        0: ts1,\n",
    "        1: ts2,\n",
    "        2: ts3,\n",
    "    },\n",
    "    time_support=nap.IntervalSet(0, 100),\n",
    ")"
   ]
  },
  {
   "cell_type": "markdown",
   "id": "f165d3c1",
   "metadata": {},
   "source": [
    "**Question:** Can you print the `time_support` and `rate` to see how they changed?"
   ]
  },
  {
   "cell_type": "code",
   "execution_count": 153,
   "id": "8763f8f4",
   "metadata": {},
   "outputs": [
    {
     "name": "stdout",
     "output_type": "stream",
     "text": [
      "  index    start    end\n",
      "      0        0    100\n",
      "shape: (1, 2), time unit: sec.\n",
      "--\n",
      "0    0.03\n",
      "1    0.04\n",
      "2    1.00\n",
      "Name: rate, dtype: float64\n"
     ]
    }
   ],
   "source": [
    "print(tsgroup.time_support)\n",
    "print('--')\n",
    "print(tsgroup.rate)"
   ]
  },
  {
   "cell_type": "markdown",
   "id": "59a74d06",
   "metadata": {},
   "source": [
    "Now you realized the variable `tsd1` has some noise. The good signal is between 10 and 30 seconds and  50 and 100.\n",
    "\n",
    "**Question:** Can you create an `IntervalSet` object called `ep_signal` and use it to restrict the variable `tsd1`?"
   ]
  },
  {
   "cell_type": "markdown",
   "id": "0601b316-e888-4cd3-a6ce-e2c0378323c8",
   "metadata": {},
   "source": [
    "## "
   ]
  },
  {
   "cell_type": "code",
   "execution_count": 154,
   "id": "d35401b5",
   "metadata": {},
   "outputs": [
    {
     "name": "stdout",
     "output_type": "stream",
     "text": [
      "Time (s)\n",
      "----------  ---------\n",
      "10.0        -0.804048\n",
      "11.0         1.36627\n",
      "12.0         0.823075\n",
      "13.0        -1.19363\n",
      "14.0         0.229354\n",
      "15.0        -1.06192\n",
      "16.0        -0.559755\n",
      "...\n",
      "93.0         1.49214\n",
      "94.0         0.12468\n",
      "95.0        -1.44793\n",
      "96.0        -0.695265\n",
      "97.0        -1.30764\n",
      "98.0         0.994659\n",
      "99.0         1.9119\n",
      "dtype: float64, shape: (71,)\n",
      "--\n",
      "  index    start    end\n",
      "      0        0     99\n",
      "shape: (1, 2), time unit: sec.\n"
     ]
    }
   ],
   "source": [
    "ep_signal = nap.IntervalSet(start=[10, 50], end=[30, 100])\n",
    "print(tsd1.restrict(ep_signal))\n",
    "print('--')\n",
    "print(tsd1.time_support)"
   ]
  },
  {
   "cell_type": "markdown",
   "id": "e41546d6",
   "metadata": {},
   "source": [
    "You can print `tsd1` to check that the timestamps are in fact within `ep`.\n",
    "You can also check the `time_support` of `tsd1` to see that it has been updated."
   ]
  },
  {
   "cell_type": "markdown",
   "id": "14d4afd7",
   "metadata": {},
   "source": [
    "**Question:** Can you do the intersection of `ep_signal` and `ep_tmp`?"
   ]
  },
  {
   "cell_type": "code",
   "execution_count": 155,
   "id": "fbc77c0f",
   "metadata": {},
   "outputs": [
    {
     "data": {
      "image/png": "[encoded data removed]",
      "text/plain": [
       "<Figure size 600x300 with 1 Axes>"
      ]
     },
     "metadata": {},
     "output_type": "display_data"
    }
   ],
   "source": [
    "ep_tmp = nap.IntervalSet(start=40, end=60)\n",
    "workshop_utils.visualize_intervals(ep_signal)"
   ]
  },
  {
   "cell_type": "code",
   "execution_count": 156,
   "id": "5d5e126c-8557-4e68-8d0e-c369edff635c",
   "metadata": {},
   "outputs": [
    {
     "data": {
      "image/png": "[encoded data removed]",
      "text/plain": [
       "<Figure size 600x300 with 1 Axes>"
      ]
     },
     "metadata": {},
     "output_type": "display_data"
    }
   ],
   "source": [
    "workshop_utils.visualize_intervals(ep_signal.intersect(ep_tmp))"
   ]
  },
  {
   "cell_type": "markdown",
   "id": "8dd2c86f",
   "metadata": {},
   "source": [
    "You can visualize IntervalSet using the function `workshop_utils.visualize_intervals` we provide."
   ]
  },
  {
   "cell_type": "code",
   "execution_count": 157,
   "id": "ee28d62b",
   "metadata": {
    "tags": [
     "render-all"
    ]
   },
   "outputs": [
    {
     "data": {
      "image/png": "[encoded data removed]",
      "text/plain": [
       "<Figure size 600x300 with 1 Axes>"
      ]
     },
     "metadata": {},
     "output_type": "display_data"
    }
   ],
   "source": [
    "workshop_utils.visualize_intervals([ep_signal, ep_tmp, ep_signal.intersect(ep_tmp)])"
   ]
  },
  {
   "cell_type": "markdown",
   "id": "8cc5953b",
   "metadata": {},
   "source": [
    "**Question:** Can you do the union of `ep_signal` and `ep_tmp`?"
   ]
  },
  {
   "cell_type": "code",
   "execution_count": 158,
   "id": "0faa3dae",
   "metadata": {},
   "outputs": [
    {
     "data": {
      "text/plain": [
       "  index    start    end\n",
       "      0       10     30\n",
       "      1       40    100\n",
       "shape: (2, 2), time unit: sec."
      ]
     },
     "execution_count": 158,
     "metadata": {},
     "output_type": "execute_result"
    }
   ],
   "source": [
    "ep_union = ep_signal.union(ep_tmp)\n",
    "ep_union"
   ]
  },
  {
   "cell_type": "markdown",
   "id": "0c3ce649",
   "metadata": {},
   "source": [
    "**Question:** ... and visualize it?"
   ]
  },
  {
   "cell_type": "code",
   "execution_count": 159,
   "id": "897c5b14",
   "metadata": {},
   "outputs": [
    {
     "data": {
      "image/png": "[encoded data removed]",
      "text/plain": [
       "<Figure size 600x300 with 1 Axes>"
      ]
     },
     "metadata": {},
     "output_type": "display_data"
    }
   ],
   "source": [
    "workshop_utils.visualize_intervals([ep_signal, ep_tmp, ep_union])"
   ]
  },
  {
   "cell_type": "markdown",
   "id": "fe74c9af",
   "metadata": {},
   "source": [
    "**Question:** Can you do the difference of `ep_signal` and `ep_tmp`?"
   ]
  },
  {
   "cell_type": "code",
   "execution_count": 160,
   "id": "ac692868",
   "metadata": {},
   "outputs": [
    {
     "data": {
      "image/png": "[encoded data removed]",
      "text/plain": [
       "<Figure size 600x300 with 1 Axes>"
      ]
     },
     "metadata": {},
     "output_type": "display_data"
    }
   ],
   "source": [
    "ep_diff = ep_signal.set_diff(ep_tmp)\n",
    "workshop_utils.visualize_intervals([ep_signal, ep_tmp, ep_diff])"
   ]
  },
  {
   "cell_type": "markdown",
   "id": "bde730d5",
   "metadata": {},
   "source": [
    "**Question:** ... and visualize it?"
   ]
  },
  {
   "cell_type": "code",
   "execution_count": 161,
   "id": "96fac1d7",
   "metadata": {},
   "outputs": [
    {
     "data": {
      "text/plain": [
       "\u001b[0;31mSignature:\u001b[0m \u001b[0mworkshop_utils\u001b[0m\u001b[0;34m.\u001b[0m\u001b[0mvisualize_intervals\u001b[0m\u001b[0;34m(\u001b[0m\u001b[0meps\u001b[0m\u001b[0;34m)\u001b[0m\u001b[0;34m\u001b[0m\u001b[0;34m\u001b[0m\u001b[0m\n",
       "\u001b[0;31mDocstring:\u001b[0m <no docstring>\n",
       "\u001b[0;31mFile:\u001b[0m      ~/Princeton Dropbox/Jorge Yanar/research/workshops/ccn-software-jan-2025/src/workshop_utils/plotting.py\n",
       "\u001b[0;31mType:\u001b[0m      function"
      ]
     },
     "metadata": {},
     "output_type": "display_data"
    }
   ],
   "source": [
    "?workshop_utils.visualize_intervals"
   ]
  },
  {
   "cell_type": "markdown",
   "id": "1a72e594",
   "metadata": {},
   "source": [
    "## Numpy & pynapple\n",
    "\n",
    "\n",
    "Pynapple objects behaves very similarly like numpy array. They can be sliced with the following syntax :\n",
    "\n",
    "  `tsd[0:10] # First 10 elements`\n",
    "\n",
    "Arithmetical operations are available as well :\n",
    "\n",
    "  `tsd = tsd + 1`\n",
    "\n",
    "Finally numpy functions works directly. Let's imagine `tsd3` is a movie with frame size (4,5).\n",
    "\n",
    "**Question:** Can you compute the average frame along the time axis using `np.mean` and print the result?"
   ]
  },
  {
   "cell_type": "code",
   "execution_count": 162,
   "id": "a27777af",
   "metadata": {},
   "outputs": [
    {
     "data": {
      "text/plain": [
       "<matplotlib.image.AxesImage at 0x168a19a50>"
      ]
     },
     "execution_count": 162,
     "metadata": {},
     "output_type": "execute_result"
    },
    {
     "data": {
      "image/png": "[encoded data removed]",
      "text/plain": [
       "<Figure size 640x480 with 1 Axes>"
      ]
     },
     "metadata": {},
     "output_type": "display_data"
    }
   ],
   "source": [
    "# tsd.size # gives us 1000,4,5 -- first one is the time axis\n",
    "mean_frame = np.mean(tsd3, axis=0)\n",
    "plt.imshow(mean_frame)"
   ]
  },
  {
   "cell_type": "markdown",
   "id": "3dad745f",
   "metadata": {},
   "source": [
    "**Question:**: can you compute the average of `tsd2` for each timestamps and print it?"
   ]
  },
  {
   "cell_type": "code",
   "execution_count": 163,
   "id": "d2750958",
   "metadata": {},
   "outputs": [
    {
     "data": {
      "text/plain": [
       "Time (s)    pineapple    banana    tomato\n",
       "----------  -----------  --------  --------\n",
       "0.0         0.46104      -1.27263  -0.95473\n",
       "1.0         0.06074      -0.26644  1.33014\n",
       "2.0         -1.14363     -0.66458  0.48703\n",
       "3.0         -1.9073      0.61592   0.35012\n",
       "4.0         0.39992      1.05771   -1.07964\n",
       "5.0         0.58122      -0.51725  0.3182\n",
       "6.0         0.59462      -0.80521  1.31528\n",
       "...         ...          ...       ...\n",
       "93.0        -0.61733     -0.93069  -0.79424\n",
       "94.0        -0.1283      -0.63549  1.01334\n",
       "95.0        -1.97964     0.95089   -0.47257\n",
       "96.0        0.87341      -0.9485   1.76025\n",
       "97.0        -1.94188     0.6937    -0.61822\n",
       "98.0        0.4549       -2.58104  0.43296\n",
       "99.0        -1.60526     -0.65391  -0.14758\n",
       "dtype: float64, shape: (100, 3)"
      ]
     },
     "execution_count": 163,
     "metadata": {},
     "output_type": "execute_result"
    }
   ],
   "source": [
    "tsd2"
   ]
  },
  {
   "cell_type": "code",
   "execution_count": 164,
   "id": "0c393a52-9634-4f23-94d0-0feafe2b97fb",
   "metadata": {},
   "outputs": [
    {
     "data": {
      "text/plain": [
       "Time (s)\n",
       "----------  ----------\n",
       "0.0         -0.588773\n",
       "1.0          0.374816\n",
       "2.0         -0.440391\n",
       "3.0         -0.313752\n",
       "4.0          0.126\n",
       "5.0          0.127392\n",
       "6.0          0.368229\n",
       "...\n",
       "93.0        -0.780754\n",
       "94.0         0.0831852\n",
       "95.0        -0.500441\n",
       "96.0         0.561722\n",
       "97.0        -0.622135\n",
       "98.0        -0.564392\n",
       "99.0        -0.802252\n",
       "dtype: float64, shape: (100,)"
      ]
     },
     "execution_count": 164,
     "metadata": {},
     "output_type": "execute_result"
    }
   ],
   "source": [
    "tsd2.mean(axis=1)"
   ]
  },
  {
   "cell_type": "code",
   "execution_count": null,
   "id": "668020e3-b081-46db-96ce-347c43b99af3",
   "metadata": {},
   "outputs": [],
   "source": []
  },
  {
   "cell_type": "code",
   "execution_count": null,
   "id": "d2a63984-d4a5-4258-8b6e-73eb176725c5",
   "metadata": {},
   "outputs": [],
   "source": []
  },
  {
   "cell_type": "code",
   "execution_count": null,
   "id": "ce19adab-c6d5-4776-b973-fd971602b6d7",
   "metadata": {},
   "outputs": [],
   "source": []
  },
  {
   "cell_type": "code",
   "execution_count": null,
   "id": "23e0fc36-4981-486a-96e7-427801a1331b",
   "metadata": {},
   "outputs": [],
   "source": []
  },
  {
   "cell_type": "markdown",
   "id": "3f8577d4",
   "metadata": {},
   "source": [
    "## Slicing pynapple objects \n",
    "\n",
    "\n",
    "**Question:** Can you extract the first and last epoch of `ep` in a new `IntervalSet`?"
   ]
  },
  {
   "cell_type": "code",
   "execution_count": 165,
   "id": "7aa16d86",
   "metadata": {},
   "outputs": [
    {
     "name": "stdout",
     "output_type": "stream",
     "text": [
      "  index    start    end\n",
      "      0       10     20\n",
      "      1       60     80\n",
      "      2       90     95\n",
      "shape: (3, 2), time unit: sec.\n",
      "--\n",
      "  index    start    end\n",
      "      0       10     20\n",
      "      1       90     95\n",
      "shape: (2, 2), time unit: sec.\n"
     ]
    }
   ],
   "source": [
    "# enter code here\n",
    "ep_new = ep[[0,2],:]\n",
    "##\n",
    "print(ep)\n",
    "print('--')\n",
    "print(ep_new)"
   ]
  },
  {
   "cell_type": "markdown",
   "id": "0acd9644",
   "metadata": {},
   "source": [
    "Sometimes you want to get a data point as close as possible in time to another timestamps.\n",
    "\n",
    "**Question:** Using the `get` method, can you get the data point from `tsd3` as close as possible to the time 50.1 seconds?"
   ]
  },
  {
   "cell_type": "code",
   "execution_count": 166,
   "id": "7bd05e2a",
   "metadata": {},
   "outputs": [
    {
     "data": {
      "text/plain": [
       "\u001b[0;31mSignature:\u001b[0m \u001b[0mtsd3\u001b[0m\u001b[0;34m.\u001b[0m\u001b[0mget\u001b[0m\u001b[0;34m(\u001b[0m\u001b[0mstart\u001b[0m\u001b[0;34m,\u001b[0m \u001b[0mend\u001b[0m\u001b[0;34m=\u001b[0m\u001b[0;32mNone\u001b[0m\u001b[0;34m,\u001b[0m \u001b[0mtime_units\u001b[0m\u001b[0;34m=\u001b[0m\u001b[0;34m's'\u001b[0m\u001b[0;34m)\u001b[0m\u001b[0;34m\u001b[0m\u001b[0;34m\u001b[0m\u001b[0m\n",
       "\u001b[0;31mDocstring:\u001b[0m\n",
       "Slice the time series from `start` to `end` such that all the timestamps satisfy `start<=t<=end`.\n",
       "If `end` is None, only the timepoint closest to `start` is returned.\n",
       "\n",
       "By default, the time support doesn't change. If you want to change the time support, use the `restrict` function.\n",
       "\n",
       "Parameters\n",
       "----------\n",
       "start : float or int\n",
       "    The start (or closest time point if `end` is None)\n",
       "end : float or int or None\n",
       "    The end\n",
       "\u001b[0;31mFile:\u001b[0m      ~/Princeton Dropbox/Jorge Yanar/research/workshops/ccn-software-jan-2025/.venv/lib/python3.11/site-packages/pynapple/core/base_class.py\n",
       "\u001b[0;31mType:\u001b[0m      method"
      ]
     },
     "metadata": {},
     "output_type": "display_data"
    }
   ],
   "source": [
    "?tsd3.get"
   ]
  },
  {
   "cell_type": "code",
   "execution_count": 167,
   "id": "239f120f-d560-4fe1-bb3e-72409106efef",
   "metadata": {},
   "outputs": [
    {
     "data": {
      "text/plain": [
       "array([[-1.67048985,  1.18923934, -0.60666043, -0.08409059, -0.15144817],\n",
       "       [ 1.10957747, -1.49191126, -0.20017315, -1.66754692,  1.33223634],\n",
       "       [-0.87102822,  0.47497842, -1.42080668, -0.0578017 , -1.14157555],\n",
       "       [-0.75678519, -0.05736657,  0.27791938, -0.16867259,  0.50018441]])"
      ]
     },
     "execution_count": 167,
     "metadata": {},
     "output_type": "execute_result"
    }
   ],
   "source": [
    "tsd3.get(50.1)"
   ]
  },
  {
   "cell_type": "code",
   "execution_count": 168,
   "id": "7f67fb86-f1fb-4477-9128-ea20bc36a74d",
   "metadata": {},
   "outputs": [
    {
     "data": {
      "text/plain": [
       "<matplotlib.image.AxesImage at 0x164d635d0>"
      ]
     },
     "execution_count": 168,
     "metadata": {},
     "output_type": "execute_result"
    },
    {
     "data": {
      "image/png": "[encoded data removed]",
      "text/plain": [
       "<Figure size 640x480 with 1 Axes>"
      ]
     },
     "metadata": {},
     "output_type": "display_data"
    }
   ],
   "source": [
    "plt.imshow(tsd3.get(50.1))"
   ]
  },
  {
   "cell_type": "code",
   "execution_count": null,
   "id": "a511c4f8-7d50-4e15-b923-0424c5ffc15e",
   "metadata": {},
   "outputs": [],
   "source": []
  },
  {
   "cell_type": "code",
   "execution_count": null,
   "id": "553818bc-a675-43a9-90f6-ca36bab743ff",
   "metadata": {},
   "outputs": [],
   "source": []
  },
  {
   "cell_type": "code",
   "execution_count": null,
   "id": "bfb6a035-1653-406a-8e2f-1771b4d6e426",
   "metadata": {},
   "outputs": [],
   "source": []
  },
  {
   "cell_type": "code",
   "execution_count": null,
   "id": "67ab5d4a-9553-47f3-9379-252169d85b3d",
   "metadata": {},
   "outputs": [],
   "source": []
  },
  {
   "cell_type": "markdown",
   "id": "55520fc8",
   "metadata": {},
   "source": [
    "## Metadata\n",
    "\n",
    "\n",
    "Metadata are ubiquitous in neuroscience. They can be added to 3 pynapple objects :\n",
    "\n",
    "- `TsGroup` : to label neurons in electrophysiology\n",
    "- `IntervalSet` : to label intervals\n",
    "- `TsdFrame` : to label neurons in calcium imaging\n",
    "\n",
    "\n",
    "**Question:** Can you run the following command `tsgroup['planet'] = ['mars', 'venus', 'saturn']`"
   ]
  },
  {
   "cell_type": "code",
   "execution_count": 169,
   "id": "776e14cd",
   "metadata": {},
   "outputs": [
    {
     "data": {
      "text/plain": [
       "  Index    rate\n",
       "-------  ------\n",
       "      0    0.03\n",
       "      1    0.04\n",
       "      2    1"
      ]
     },
     "execution_count": 169,
     "metadata": {},
     "output_type": "execute_result"
    }
   ],
   "source": [
    "tsgroup"
   ]
  },
  {
   "cell_type": "code",
   "execution_count": 170,
   "id": "12331f96-006a-4214-b629-5ff542379175",
   "metadata": {},
   "outputs": [],
   "source": [
    "tsgroup['planet'] = ['mars', 'venus', 'saturn']"
   ]
  },
  {
   "cell_type": "markdown",
   "id": "97cc6d89",
   "metadata": {},
   "source": [
    "**Question:** ... and print it?"
   ]
  },
  {
   "cell_type": "code",
   "execution_count": 171,
   "id": "9363bdb5",
   "metadata": {},
   "outputs": [
    {
     "data": {
      "text/plain": [
       "  Index    rate  planet\n",
       "-------  ------  --------\n",
       "      0    0.03  mars\n",
       "      1    0.04  venus\n",
       "      2    1     saturn"
      ]
     },
     "execution_count": 171,
     "metadata": {},
     "output_type": "execute_result"
    }
   ],
   "source": [
    "tsgroup"
   ]
  },
  {
   "cell_type": "markdown",
   "id": "087afad5",
   "metadata": {},
   "source": [
    "The object `ep` has 3 epochs labelled `['left', 'right', 'left']`. \n",
    "\n",
    "**Question:** Can you add them as a metadata column called `direction`?"
   ]
  },
  {
   "cell_type": "code",
   "execution_count": 172,
   "id": "b9cabff3",
   "metadata": {},
   "outputs": [],
   "source": [
    "ep.direction = ['left', 'right', 'left']"
   ]
  },
  {
   "cell_type": "code",
   "execution_count": 173,
   "id": "c0be097c-203e-4270-b5ff-8068d0bee6e5",
   "metadata": {},
   "outputs": [
    {
     "data": {
      "text/plain": [
       "  index    start    end  direction\n",
       "      0       10     20  left\n",
       "      1       60     80  right\n",
       "      2       90     95  left\n",
       "shape: (3, 2), time unit: sec."
      ]
     },
     "execution_count": 173,
     "metadata": {},
     "output_type": "execute_result"
    }
   ],
   "source": [
    "ep"
   ]
  },
  {
   "cell_type": "code",
   "execution_count": 174,
   "id": "e2dbaeaf-7156-4be9-91aa-3b4f4d56c586",
   "metadata": {},
   "outputs": [
    {
     "ename": "SyntaxError",
     "evalue": "invalid syntax (749335751.py, line 1)",
     "output_type": "error",
     "traceback": [
      "\u001b[0;36m  Cell \u001b[0;32mIn[174], line 1\u001b[0;36m\u001b[0m\n\u001b[0;31m    tsgroup.\u001b[0m\n\u001b[0m            ^\u001b[0m\n\u001b[0;31mSyntaxError\u001b[0m\u001b[0;31m:\u001b[0m invalid syntax\n"
     ]
    }
   ],
   "source": [
    "tsgroup."
   ]
  },
  {
   "cell_type": "code",
   "execution_count": null,
   "id": "e5046d64-f203-4c1a-8839-304d02c4bf19",
   "metadata": {},
   "outputs": [],
   "source": []
  },
  {
   "cell_type": "code",
   "execution_count": null,
   "id": "a648e8a8-98ec-4745-a35e-1009a7e7a207",
   "metadata": {},
   "outputs": [],
   "source": []
  },
  {
   "cell_type": "code",
   "execution_count": null,
   "id": "29e0892e-5563-4159-a0ee-d2927d7fdcbd",
   "metadata": {},
   "outputs": [],
   "source": []
  },
  {
   "cell_type": "markdown",
   "id": "25382245",
   "metadata": {},
   "source": [
    "The object `tsd2` has 3 columns. Each column correspond to the rgb colors `[(0,0,1), (0.5, 0.5, 1), (0.1, 0.2, 0.3)]`. \n",
    "\n",
    "**Question:** Can you add them as metadata of `tsd2`?"
   ]
  },
  {
   "cell_type": "code",
   "execution_count": 175,
   "id": "367ddb59",
   "metadata": {},
   "outputs": [],
   "source": [
    "tsd2.set_info(rgb=[(0,0,1), (0.5, 0.5, 1), (0.1, 0.2, 0.3)])\n",
    "tsd2.set_info(rgb2=[(0,0,1), (0.5, 0.5, 1), (0.1, 0.2, 0.3)]) # Both of these get added"
   ]
  },
  {
   "cell_type": "markdown",
   "id": "a8de1328",
   "metadata": {},
   "source": [
    "You can also add metadata at initialization as a dictionnary using the keyword argument `metadata` :"
   ]
  },
  {
   "cell_type": "code",
   "execution_count": 176,
   "id": "d8731a27-86b6-471b-b01c-e50e3c2da32b",
   "metadata": {},
   "outputs": [
    {
     "data": {
      "text/plain": [
       "Time (s)    pineapple    banana         tomato\n",
       "----------  -----------  -------------  ---------------\n",
       "0.0         0.46104      -1.27263       -0.95473\n",
       "1.0         0.06074      -0.26644       1.33014\n",
       "2.0         -1.14363     -0.66458       0.48703\n",
       "3.0         -1.9073      0.61592        0.35012\n",
       "4.0         0.39992      1.05771        -1.07964\n",
       "5.0         0.58122      -0.51725       0.3182\n",
       "6.0         0.59462      -0.80521       1.31528\n",
       "...         ...          ...            ...\n",
       "93.0        -0.61733     -0.93069       -0.79424\n",
       "94.0        -0.1283      -0.63549       1.01334\n",
       "95.0        -1.97964     0.95089        -0.47257\n",
       "96.0        0.87341      -0.9485        1.76025\n",
       "97.0        -1.94188     0.6937         -0.61822\n",
       "98.0        0.4549       -2.58104       0.43296\n",
       "99.0        -1.60526     -0.65391       -0.14758\n",
       "Metadata\n",
       "--------    --------     --------       --------\n",
       "rgb         (0, 0, 1)    (0.5, 0.5, 1)  (0.1, 0.2, 0.3)\n",
       "rgb2        (0, 0, 1)    (0.5, 0.5, 1)  (0.1, 0.2, 0.3)\n",
       "\n",
       "dtype: float64, shape: (100, 3)"
      ]
     },
     "execution_count": 176,
     "metadata": {},
     "output_type": "execute_result"
    }
   ],
   "source": [
    "tsd2"
   ]
  },
  {
   "cell_type": "code",
   "execution_count": null,
   "id": "0586dc95-ecf4-4dc5-a289-76649fdcba8a",
   "metadata": {},
   "outputs": [],
   "source": []
  },
  {
   "cell_type": "code",
   "execution_count": null,
   "id": "3a314a87-c076-489a-8a7e-b27876647e4d",
   "metadata": {},
   "outputs": [],
   "source": []
  },
  {
   "cell_type": "code",
   "execution_count": null,
   "id": "e01e242c-1664-4b09-a814-f484ecd30581",
   "metadata": {},
   "outputs": [],
   "source": []
  },
  {
   "cell_type": "code",
   "execution_count": 177,
   "id": "7cfb2869",
   "metadata": {
    "tags": [
     "render-all"
    ]
   },
   "outputs": [
    {
     "name": "stdout",
     "output_type": "stream",
     "text": [
      "  Index     rate  planet\n",
      "-------  -------  --------\n",
      "      0  0.03906  mars\n",
      "      1  0.05209  venus\n",
      "      2  1.30216  saturn\n"
     ]
    }
   ],
   "source": [
    "tsgroup = nap.TsGroup({0:ts1, 1:ts2, 2:ts3}, metadata={'planet':['mars','venus', 'saturn']})\n",
    "\n",
    "print(tsgroup)"
   ]
  },
  {
   "cell_type": "markdown",
   "id": "41dfd6e1",
   "metadata": {},
   "source": [
    "Metadata are accessible either as attributes (i.e. `tsgroup.planet`) or as dictionnary-like keys (i.e. `ep['direction']`).\n",
    "\n",
    "They can be used to slice objects. \n",
    "\n",
    "**Question:** Can you select only the elements of `tsgroup` with rate below 1Hz?"
   ]
  },
  {
   "cell_type": "code",
   "execution_count": 178,
   "id": "06b9fc74",
   "metadata": {},
   "outputs": [
    {
     "data": {
      "text/plain": [
       "  Index     rate  planet\n",
       "-------  -------  --------\n",
       "      0  0.03906  mars\n",
       "      1  0.05209  venus\n",
       "      2  1.30216  saturn"
      ]
     },
     "execution_count": 178,
     "metadata": {},
     "output_type": "execute_result"
    }
   ],
   "source": [
    "tsgroup"
   ]
  },
  {
   "cell_type": "code",
   "execution_count": 179,
   "id": "9ef2093a-dc49-404a-b703-0a5ec2f7096d",
   "metadata": {},
   "outputs": [
    {
     "data": {
      "text/plain": [
       "  Index     rate  planet\n",
       "-------  -------  --------\n",
       "      0  0.03906  mars\n",
       "      1  0.05209  venus"
      ]
     },
     "execution_count": 179,
     "metadata": {},
     "output_type": "execute_result"
    }
   ],
   "source": [
    "tsgroup[tsgroup.rate < 1]"
   ]
  },
  {
   "cell_type": "code",
   "execution_count": null,
   "id": "1ccc564e-3bcb-4bc3-8bdc-9797cf526eef",
   "metadata": {},
   "outputs": [],
   "source": []
  },
  {
   "cell_type": "code",
   "execution_count": null,
   "id": "54a833e3-4112-4233-b15c-4196969ce633",
   "metadata": {},
   "outputs": [],
   "source": []
  },
  {
   "cell_type": "code",
   "execution_count": null,
   "id": "390b0f0f-f998-466c-9988-316218b78119",
   "metadata": {},
   "outputs": [],
   "source": []
  },
  {
   "cell_type": "markdown",
   "id": "2f1b693b",
   "metadata": {},
   "source": [
    "**Question:** Can you select the intervals in `ep` labelled as `'left'`?"
   ]
  },
  {
   "cell_type": "code",
   "execution_count": 180,
   "id": "f0096296",
   "metadata": {},
   "outputs": [
    {
     "data": {
      "text/plain": [
       "  index    start    end  direction\n",
       "      0       10     20  left\n",
       "      1       60     80  right\n",
       "      2       90     95  left\n",
       "shape: (3, 2), time unit: sec."
      ]
     },
     "execution_count": 180,
     "metadata": {},
     "output_type": "execute_result"
    }
   ],
   "source": [
    "ep"
   ]
  },
  {
   "cell_type": "code",
   "execution_count": 181,
   "id": "4130be49-a515-4dec-bdd7-2f5b71e4568f",
   "metadata": {},
   "outputs": [
    {
     "data": {
      "text/plain": [
       "  index    start    end  direction\n",
       "      0       10     20  left\n",
       "      1       90     95  left\n",
       "shape: (2, 2), time unit: sec."
      ]
     },
     "execution_count": 181,
     "metadata": {},
     "output_type": "execute_result"
    }
   ],
   "source": [
    "ep[ep.direction == 'left']"
   ]
  },
  {
   "cell_type": "code",
   "execution_count": null,
   "id": "9ffc41ce-5bfb-48b4-87e1-33d7f51c84e6",
   "metadata": {},
   "outputs": [],
   "source": []
  },
  {
   "cell_type": "code",
   "execution_count": null,
   "id": "fc78b3de-2486-4062-bd35-3580dcb6c4c1",
   "metadata": {},
   "outputs": [],
   "source": []
  },
  {
   "cell_type": "code",
   "execution_count": null,
   "id": "421f877f-c92b-472c-bc96-a83ed9e348b9",
   "metadata": {},
   "outputs": [],
   "source": []
  },
  {
   "cell_type": "markdown",
   "id": "7a542f1c",
   "metadata": {},
   "source": [
    "### Special case of slicing : `TsdFrame`"
   ]
  },
  {
   "cell_type": "code",
   "execution_count": 182,
   "id": "85961eac",
   "metadata": {
    "tags": [
     "render-all"
    ]
   },
   "outputs": [
    {
     "name": "stdout",
     "output_type": "stream",
     "text": [
      "Time (s)    12        0         1\n",
      "----------  --------  --------  --------\n",
      "0.0         2.51205   -1.73259  0.20099\n",
      "1.0         -1.12707  -0.46151  0.95461\n",
      "2.0         0.95779   0.67416   -0.59126\n",
      "3.0         -2.26937  0.30712   0.37986\n",
      "Metadata\n",
      "--------    --------  --------  --------\n",
      "alpha       2         1         0\n",
      "\n",
      "dtype: float64, shape: (4, 3)\n"
     ]
    }
   ],
   "source": [
    "tsdframe = nap.TsdFrame(\n",
    "    t=np.arange(4), d=np.random.randn(4,3),\n",
    "    columns = [12, 0, 1], metadata={'alpha':[2,1,0]}\n",
    ")\n",
    "\n",
    "print(tsdframe)"
   ]
  },
  {
   "cell_type": "markdown",
   "id": "fbdc5742",
   "metadata": {},
   "source": [
    "**Question:** What happen when you do `tsdframe[0]` vs `tsdframe[:,0]` vs `tsdframe[[12,1]]`"
   ]
  },
  {
   "cell_type": "code",
   "execution_count": 183,
   "id": "9fa750c9",
   "metadata": {},
   "outputs": [
    {
     "name": "stdout",
     "output_type": "stream",
     "text": [
      "[ 2.51205019 -1.73258861  0.20098754]\n"
     ]
    }
   ],
   "source": [
    "print(tsdframe[0])"
   ]
  },
  {
   "cell_type": "code",
   "execution_count": 184,
   "id": "e9f396c3-8742-41b1-910c-89dbe481e023",
   "metadata": {},
   "outputs": [
    {
     "data": {
      "text/plain": [
       "Time (s)\n",
       "----------  ---------\n",
       "0            2.51205\n",
       "1           -1.12707\n",
       "2            0.957786\n",
       "3           -2.26937\n",
       "dtype: float64, shape: (4,)"
      ]
     },
     "execution_count": 184,
     "metadata": {},
     "output_type": "execute_result"
    }
   ],
   "source": [
    "tsdframe[:,0]"
   ]
  },
  {
   "cell_type": "code",
   "execution_count": 185,
   "id": "36d7184f-a6a2-4022-bdf0-e2b26451ffbc",
   "metadata": {},
   "outputs": [
    {
     "ename": "IndexError",
     "evalue": "index 12 is out of bounds for axis 0 with size 4",
     "output_type": "error",
     "traceback": [
      "\u001b[0;31m---------------------------------------------------------------------------\u001b[0m",
      "\u001b[0;31mIndexError\u001b[0m                                Traceback (most recent call last)",
      "Cell \u001b[0;32mIn[185], line 1\u001b[0m\n\u001b[0;32m----> 1\u001b[0m \u001b[43mtsdframe\u001b[49m\u001b[43m[\u001b[49m\u001b[43m[\u001b[49m\u001b[38;5;241;43m12\u001b[39;49m\u001b[43m,\u001b[49m\u001b[43m \u001b[49m\u001b[38;5;241;43m1\u001b[39;49m\u001b[43m]\u001b[49m\u001b[43m]\u001b[49m\n",
      "File \u001b[0;32m~/Princeton Dropbox/Jorge Yanar/research/workshops/ccn-software-jan-2025/.venv/lib/python3.11/site-packages/pynapple/core/time_series.py:1201\u001b[0m, in \u001b[0;36mTsdFrame.__getitem__\u001b[0;34m(self, key, *args, **kwargs)\u001b[0m\n\u001b[1;32m   1197\u001b[0m \u001b[38;5;28;01mif\u001b[39;00m \u001b[38;5;28misinstance\u001b[39m(key, pd\u001b[38;5;241m.\u001b[39mSeries) \u001b[38;5;129;01mand\u001b[39;00m key\u001b[38;5;241m.\u001b[39mindex\u001b[38;5;241m.\u001b[39mequals(\u001b[38;5;28mself\u001b[39m\u001b[38;5;241m.\u001b[39mcolumns):\n\u001b[1;32m   1198\u001b[0m     \u001b[38;5;66;03m# if indexing with a pd.Series from metadata, transform it to tuple with slice(None) in first position\u001b[39;00m\n\u001b[1;32m   1199\u001b[0m     key \u001b[38;5;241m=\u001b[39m (\u001b[38;5;28mslice\u001b[39m(\u001b[38;5;28;01mNone\u001b[39;00m, \u001b[38;5;28;01mNone\u001b[39;00m, \u001b[38;5;28;01mNone\u001b[39;00m), key)\n\u001b[0;32m-> 1201\u001b[0m output \u001b[38;5;241m=\u001b[39m \u001b[38;5;28;43mself\u001b[39;49m\u001b[38;5;241;43m.\u001b[39;49m\u001b[43mvalues\u001b[49m\u001b[38;5;241;43m.\u001b[39;49m\u001b[38;5;21;43m__getitem__\u001b[39;49m\u001b[43m(\u001b[49m\u001b[43mkey\u001b[49m\u001b[43m)\u001b[49m\n\u001b[1;32m   1202\u001b[0m columns \u001b[38;5;241m=\u001b[39m \u001b[38;5;28mself\u001b[39m\u001b[38;5;241m.\u001b[39mcolumns\n\u001b[1;32m   1204\u001b[0m \u001b[38;5;28;01mif\u001b[39;00m \u001b[38;5;28misinstance\u001b[39m(key, \u001b[38;5;28mtuple\u001b[39m):\n",
      "\u001b[0;31mIndexError\u001b[0m: index 12 is out of bounds for axis 0 with size 4"
     ]
    }
   ],
   "source": [
    "tsdframe[[12, 1]]"
   ]
  },
  {
   "cell_type": "code",
   "execution_count": null,
   "id": "aff85b7c-1eb3-4616-b871-8d03027860d4",
   "metadata": {},
   "outputs": [],
   "source": []
  },
  {
   "cell_type": "code",
   "execution_count": null,
   "id": "4f9f342e-be8e-4ae7-8019-b45f803b019d",
   "metadata": {},
   "outputs": [],
   "source": []
  },
  {
   "cell_type": "code",
   "execution_count": 186,
   "id": "63181f3b-6acd-404c-9091-03840b480307",
   "metadata": {},
   "outputs": [
    {
     "data": {
      "text/plain": [
       "Time (s)    12        0         1\n",
       "----------  --------  --------  --------\n",
       "0.0         2.51205   -1.73259  0.20099\n",
       "1.0         -1.12707  -0.46151  0.95461\n",
       "2.0         0.95779   0.67416   -0.59126\n",
       "3.0         -2.26937  0.30712   0.37986\n",
       "Metadata\n",
       "--------    --------  --------  --------\n",
       "alpha       2         1         0\n",
       "\n",
       "dtype: float64, shape: (4, 3)"
      ]
     },
     "execution_count": 186,
     "metadata": {},
     "output_type": "execute_result"
    }
   ],
   "source": [
    "tsdframe"
   ]
  },
  {
   "cell_type": "markdown",
   "id": "bfc396e5",
   "metadata": {},
   "source": [
    "**Question:** What happen when you do `tsdframe.loc[0]` and `tsdframe.loc[[0,1]]`"
   ]
  },
  {
   "cell_type": "code",
   "execution_count": 187,
   "id": "6c62397f",
   "metadata": {},
   "outputs": [
    {
     "name": "stdout",
     "output_type": "stream",
     "text": [
      "Time (s)\n",
      "----------  ---------\n",
      "0           -1.73259\n",
      "1           -0.461511\n",
      "2            0.674156\n",
      "3            0.307119\n",
      "dtype: float64, shape: (4,)\n",
      "--\n",
      "Time (s)    0         1\n",
      "----------  --------  --------\n",
      "0.0         -1.73259  0.20099\n",
      "1.0         -0.46151  0.95461\n",
      "2.0         0.67416   -0.59126\n",
      "3.0         0.30712   0.37986\n",
      "Metadata\n",
      "--------    --------  --------\n",
      "alpha       1         0\n",
      "\n",
      "dtype: float64, shape: (4, 2)\n"
     ]
    }
   ],
   "source": [
    "print(tsdframe.loc[0])\n",
    "print('--')\n",
    "print(tsdframe.loc[[0,1]])"
   ]
  },
  {
   "cell_type": "markdown",
   "id": "ce68fe13",
   "metadata": {},
   "source": [
    "**Question:** What happen when you do `tsdframe[tsdframe.alpha==2]`"
   ]
  },
  {
   "cell_type": "code",
   "execution_count": 188,
   "id": "2e4e1f87",
   "metadata": {},
   "outputs": [
    {
     "data": {
      "text/plain": [
       "Time (s)    12\n",
       "----------  --------\n",
       "0.0         2.51205\n",
       "1.0         -1.12707\n",
       "2.0         0.95779\n",
       "3.0         -2.26937\n",
       "Metadata\n",
       "--------    --------\n",
       "alpha       2\n",
       "\n",
       "dtype: float64, shape: (4, 1)"
      ]
     },
     "execution_count": 188,
     "metadata": {},
     "output_type": "execute_result"
    }
   ],
   "source": [
    "tsdframe[tsdframe.alpha == 2]"
   ]
  },
  {
   "cell_type": "markdown",
   "id": "56386676",
   "metadata": {},
   "source": [
    "## Core functions of pynapple \n",
    "\n",
    "\n",
    "This part focuses on the most important core functions of pynapple.\n",
    "\n",
    "**Question:** Using the `count` function, can you count the number of events within 1 second bins for `tsgroup` over the `ep_signal` intervals?"
   ]
  },
  {
   "cell_type": "code",
   "execution_count": 189,
   "id": "220c2055",
   "metadata": {},
   "outputs": [
    {
     "data": {
      "text/plain": [
       "  Index     rate  planet\n",
       "-------  -------  --------\n",
       "      0  0.03906  mars\n",
       "      1  0.05209  venus\n",
       "      2  1.30216  saturn"
      ]
     },
     "execution_count": 189,
     "metadata": {},
     "output_type": "execute_result"
    }
   ],
   "source": [
    "tsgroup"
   ]
  },
  {
   "cell_type": "code",
   "execution_count": 190,
   "id": "012c9062-3a4d-44ee-ad24-aa2489d2a388",
   "metadata": {},
   "outputs": [
    {
     "data": {
      "text/plain": [
       "  index    start    end\n",
       "      0       10     30\n",
       "      1       50    100\n",
       "shape: (2, 2), time unit: sec."
      ]
     },
     "execution_count": 190,
     "metadata": {},
     "output_type": "execute_result"
    }
   ],
   "source": [
    "ep_signal"
   ]
  },
  {
   "cell_type": "code",
   "execution_count": 191,
   "id": "5f813689-cca8-4a7a-936b-3f9d68221106",
   "metadata": {},
   "outputs": [
    {
     "data": {
      "text/plain": [
       "Time (s)      0    1    2\n",
       "----------  ---  ---  ---\n",
       "20            0    2   29\n",
       "75            0    2   43\n",
       "dtype: float64, shape: (2, 3)"
      ]
     },
     "execution_count": 191,
     "metadata": {},
     "output_type": "execute_result"
    }
   ],
   "source": [
    "tsgroup.count(ep=ep_signal)"
   ]
  },
  {
   "cell_type": "code",
   "execution_count": null,
   "id": "6672dedb-4a41-478c-99a4-2b8ca9e0da7c",
   "metadata": {},
   "outputs": [],
   "source": []
  },
  {
   "cell_type": "code",
   "execution_count": null,
   "id": "b3abacc7-b5e3-45ef-97d4-ec4b600a4063",
   "metadata": {},
   "outputs": [],
   "source": []
  },
  {
   "cell_type": "markdown",
   "id": "bf834d55",
   "metadata": {},
   "source": [
    "From a set of timestamps, you want to assign them a set of values with the closest point in time of another time series.\n",
    "\n",
    "**Question:** Using the function `value_from`, can you assign values to `ts2` from the `tsd1` time series and call the output `new_tsd`?"
   ]
  },
  {
   "cell_type": "code",
   "execution_count": 192,
   "id": "31a59f68",
   "metadata": {},
   "outputs": [],
   "source": [
    "new_tsd = ts2.value_from(tsd1)"
   ]
  },
  {
   "cell_type": "markdown",
   "id": "593670ba",
   "metadata": {},
   "source": [
    "**Question:** Can you plot together `tsd1`, `ts2` and `new_tsd`?"
   ]
  },
  {
   "cell_type": "code",
   "execution_count": 193,
   "id": "b0d0ae41",
   "metadata": {},
   "outputs": [
    {
     "data": {
      "text/plain": [
       "Time (s)\n",
       "----------  ----------\n",
       "0.0          0.275093\n",
       "1.0          1.30653\n",
       "2.0         -0.983989\n",
       "3.0          0.0753501\n",
       "4.0          2.4675\n",
       "5.0         -0.830946\n",
       "6.0         -0.363743\n",
       "...\n",
       "93.0         1.49214\n",
       "94.0         0.12468\n",
       "95.0        -1.44793\n",
       "96.0        -0.695265\n",
       "97.0        -1.30764\n",
       "98.0         0.994659\n",
       "99.0         1.9119\n",
       "dtype: float64, shape: (100,)"
      ]
     },
     "execution_count": 193,
     "metadata": {},
     "output_type": "execute_result"
    }
   ],
   "source": [
    "tsd1"
   ]
  },
  {
   "cell_type": "code",
   "execution_count": 194,
   "id": "10195748-0d20-405d-af91-a3be40ab0470",
   "metadata": {},
   "outputs": [
    {
     "data": {
      "text/plain": [
       "Time (s)\n",
       "10.0\n",
       "25.0\n",
       "50.0\n",
       "70.0\n",
       "shape: 4"
      ]
     },
     "execution_count": 194,
     "metadata": {},
     "output_type": "execute_result"
    }
   ],
   "source": [
    "ts2"
   ]
  },
  {
   "cell_type": "code",
   "execution_count": 195,
   "id": "fe82dc5a-2141-4268-be77-098b50b54b64",
   "metadata": {},
   "outputs": [
    {
     "data": {
      "text/plain": [
       "Time (s)\n",
       "----------  ---------\n",
       "10          -0.804048\n",
       "25           0.760319\n",
       "50          -0.361153\n",
       "70          -1.52693\n",
       "dtype: float64, shape: (4,)"
      ]
     },
     "execution_count": 195,
     "metadata": {},
     "output_type": "execute_result"
    }
   ],
   "source": [
    "new_tsd"
   ]
  },
  {
   "cell_type": "markdown",
   "id": "96154ffe-94ff-4872-8e8c-62c08641bd08",
   "metadata": {},
   "source": [
    "## "
   ]
  },
  {
   "cell_type": "code",
   "execution_count": 196,
   "id": "48e2bc12-3c49-4cbc-b399-850ff02f8a34",
   "metadata": {},
   "outputs": [
    {
     "data": {
      "text/plain": [
       "[<matplotlib.lines.Line2D at 0x168bfcc90>]"
      ]
     },
     "execution_count": 196,
     "metadata": {},
     "output_type": "execute_result"
    },
    {
     "data": {
      "image/png": "[encoded data removed]",
      "text/plain": [
       "<Figure size 640x480 with 1 Axes>"
      ]
     },
     "metadata": {},
     "output_type": "display_data"
    }
   ],
   "source": [
    "fig, ax = plt.subplots(1,1)\n",
    "ax.plot(tsd1.t, tsd1)\n",
    "ax.plot(ts2.t, np.ones(len(ts2.t)), '.')\n",
    "ax.plot(new_tsd.t, new_tsd)"
   ]
  },
  {
   "cell_type": "code",
   "execution_count": null,
   "id": "5146819a-23bb-4dde-b911-cad779c13a5c",
   "metadata": {},
   "outputs": [],
   "source": []
  },
  {
   "cell_type": "code",
   "execution_count": null,
   "id": "d06eff75-381f-4500-a94d-147ab0b63d4a",
   "metadata": {},
   "outputs": [],
   "source": []
  },
  {
   "cell_type": "markdown",
   "id": "c56f3ce2",
   "metadata": {},
   "source": [
    "One important aspect of data analysis is to bring data to the same size. Pynapple provides the `bin_average` function to downsample data.\n",
    "\n",
    "**Question:** Can you downsample `tsd2` to one time point every 5 seconds?"
   ]
  },
  {
   "cell_type": "code",
   "execution_count": 197,
   "id": "9bfd1e8e",
   "metadata": {},
   "outputs": [
    {
     "data": {
      "text/plain": [
       "Time (s)    pineapple    banana         tomato\n",
       "----------  -----------  -------------  ---------------\n",
       "0.0         0.46104      -1.27263       -0.95473\n",
       "1.0         0.06074      -0.26644       1.33014\n",
       "2.0         -1.14363     -0.66458       0.48703\n",
       "3.0         -1.9073      0.61592        0.35012\n",
       "4.0         0.39992      1.05771        -1.07964\n",
       "5.0         0.58122      -0.51725       0.3182\n",
       "6.0         0.59462      -0.80521       1.31528\n",
       "...         ...          ...            ...\n",
       "93.0        -0.61733     -0.93069       -0.79424\n",
       "94.0        -0.1283      -0.63549       1.01334\n",
       "95.0        -1.97964     0.95089        -0.47257\n",
       "96.0        0.87341      -0.9485        1.76025\n",
       "97.0        -1.94188     0.6937         -0.61822\n",
       "98.0        0.4549       -2.58104       0.43296\n",
       "99.0        -1.60526     -0.65391       -0.14758\n",
       "Metadata\n",
       "--------    --------     --------       --------\n",
       "rgb         (0, 0, 1)    (0.5, 0.5, 1)  (0.1, 0.2, 0.3)\n",
       "rgb2        (0, 0, 1)    (0.5, 0.5, 1)  (0.1, 0.2, 0.3)\n",
       "\n",
       "dtype: float64, shape: (100, 3)"
      ]
     },
     "execution_count": 197,
     "metadata": {},
     "output_type": "execute_result"
    }
   ],
   "source": [
    "tsd2"
   ]
  },
  {
   "cell_type": "code",
   "execution_count": 199,
   "id": "08a45766-acda-4c7a-83c1-5fb45eca7c52",
   "metadata": {},
   "outputs": [],
   "source": [
    "tsd2_new = tsd2.bin_average(5)"
   ]
  },
  {
   "cell_type": "code",
   "execution_count": null,
   "id": "4e830de1-3623-4489-b821-3bce7cd5ba2d",
   "metadata": {},
   "outputs": [],
   "source": []
  },
  {
   "cell_type": "code",
   "execution_count": null,
   "id": "5fd7a659-8648-418d-822a-531e964aba08",
   "metadata": {},
   "outputs": [],
   "source": []
  },
  {
   "cell_type": "code",
   "execution_count": null,
   "id": "ae28c0d2-eeb8-413f-8efe-1c83e0f38ffe",
   "metadata": {},
   "outputs": [],
   "source": []
  },
  {
   "cell_type": "markdown",
   "id": "4e1f0369",
   "metadata": {},
   "source": [
    "**Question:** Can you plot the `tomato` column from `tsd2` as well as the downsampled version?"
   ]
  },
  {
   "cell_type": "code",
   "execution_count": 205,
   "id": "70e1ad7a",
   "metadata": {},
   "outputs": [
    {
     "data": {
      "text/plain": [
       "[<matplotlib.lines.Line2D at 0x169a6e010>]"
      ]
     },
     "execution_count": 205,
     "metadata": {},
     "output_type": "execute_result"
    },
    {
     "data": {
      "image/png": "[encoded data removed]",
      "text/plain": [
       "<Figure size 640x480 with 1 Axes>"
      ]
     },
     "metadata": {},
     "output_type": "display_data"
    }
   ],
   "source": [
    "fig, ax = plt.subplots(1,1)\n",
    "ax.plot(tsd2.t, tsd2['tomato'])\n",
    "ax.plot(tsd2_new.t, tsd2_new['tomato'])"
   ]
  },
  {
   "cell_type": "markdown",
   "id": "27a7dc80",
   "metadata": {},
   "source": [
    "For `tsd1`, you want to find all the epochs for which the value is above 0.0. Pynapple provides the function `threshold` to get 1 dimensional time series above or below a certain value.\n",
    "\n",
    "**Question**: Can you print the epochs for which `tsd1` is above 0.0?"
   ]
  },
  {
   "cell_type": "code",
   "execution_count": 206,
   "id": "87b002ac",
   "metadata": {},
   "outputs": [
    {
     "data": {
      "text/plain": [
       "Time (s)\n",
       "----------  ----------\n",
       "0.0          0.275093\n",
       "1.0          1.30653\n",
       "2.0         -0.983989\n",
       "3.0          0.0753501\n",
       "4.0          2.4675\n",
       "5.0         -0.830946\n",
       "6.0         -0.363743\n",
       "...\n",
       "93.0         1.49214\n",
       "94.0         0.12468\n",
       "95.0        -1.44793\n",
       "96.0        -0.695265\n",
       "97.0        -1.30764\n",
       "98.0         0.994659\n",
       "99.0         1.9119\n",
       "dtype: float64, shape: (100,)"
      ]
     },
     "execution_count": 206,
     "metadata": {},
     "output_type": "execute_result"
    }
   ],
   "source": [
    "tsd1"
   ]
  },
  {
   "cell_type": "code",
   "execution_count": 207,
   "id": "de8859f3-bf65-445b-9ccb-e828e72c7a40",
   "metadata": {},
   "outputs": [
    {
     "data": {
      "text/plain": [
       "\u001b[0;31mSignature:\u001b[0m \u001b[0mtsd1\u001b[0m\u001b[0;34m.\u001b[0m\u001b[0mthreshold\u001b[0m\u001b[0;34m(\u001b[0m\u001b[0mthr\u001b[0m\u001b[0;34m,\u001b[0m \u001b[0mmethod\u001b[0m\u001b[0;34m=\u001b[0m\u001b[0;34m'above'\u001b[0m\u001b[0;34m)\u001b[0m\u001b[0;34m\u001b[0m\u001b[0;34m\u001b[0m\u001b[0m\n",
       "\u001b[0;31mDocstring:\u001b[0m\n",
       "Apply a threshold function to the tsd to return a new tsd\n",
       "with the time support being the epochs above/below/>=/<= the threshold\n",
       "\n",
       "Parameters\n",
       "----------\n",
       "thr : float\n",
       "    The threshold value\n",
       "method : str, optional\n",
       "    The threshold method (\"above\"[default], \"below\", \"aboveequal\", \"belowequal\")\n",
       "\n",
       "Returns\n",
       "-------\n",
       "out: Tsd\n",
       "    All the time points below/ above/greater than equal to/less than equal to the threshold\n",
       "\n",
       "Raises\n",
       "------\n",
       "ValueError\n",
       "    Raise an error if method is unknown.\n",
       "RuntimeError\n",
       "    Raise an error if thr is too high/low and no epochs is found.\n",
       "\n",
       "Examples\n",
       "--------\n",
       "This example finds all epoch above 0.5 within the tsd object.\n",
       "\n",
       ">>> import pynapple as nap\n",
       ">>> tsd = nap.Tsd(t=np.arange(100), d=np.random.rand(100))\n",
       ">>> newtsd = tsd.threshold(0.5)\n",
       "\n",
       "The epochs with the times above/below the threshold can be accessed through the time support:\n",
       "\n",
       ">>> tsd = nap.Tsd(t=np.arange(100), d=np.arange(100), time_units='s')\n",
       ">>> tsd.threshold(50).time_support\n",
       ">>>    start   end\n",
       ">>> 0   50.5  99.0\n",
       "\u001b[0;31mFile:\u001b[0m      ~/Princeton Dropbox/Jorge Yanar/research/workshops/ccn-software-jan-2025/.venv/lib/python3.11/site-packages/pynapple/core/time_series.py\n",
       "\u001b[0;31mType:\u001b[0m      method"
      ]
     },
     "metadata": {},
     "output_type": "display_data"
    }
   ],
   "source": [
    "?tsd1.threshold"
   ]
  },
  {
   "cell_type": "code",
   "execution_count": 208,
   "id": "8da426f7-eab7-4a14-b468-5567ce9f7156",
   "metadata": {},
   "outputs": [
    {
     "data": {
      "text/plain": [
       "Time (s)\n",
       "----------  ---------\n",
       "0.0         0.275093\n",
       "1.0         1.30653\n",
       "3.0         0.0753501\n",
       "4.0         2.4675\n",
       "7.0         0.539309\n",
       "8.0         1.11414\n",
       "9.0         0.69057\n",
       "...\n",
       "88.0        0.191895\n",
       "89.0        0.460556\n",
       "91.0        0.24408\n",
       "93.0        1.49214\n",
       "94.0        0.12468\n",
       "98.0        0.994659\n",
       "99.0        1.9119\n",
       "dtype: float64, shape: (57,)"
      ]
     },
     "execution_count": 208,
     "metadata": {},
     "output_type": "execute_result"
    }
   ],
   "source": [
    "tsd1.threshold(0.0)"
   ]
  },
  {
   "cell_type": "code",
   "execution_count": null,
   "id": "ae4108f3-05b4-4793-b728-1d46bdd76380",
   "metadata": {},
   "outputs": [],
   "source": []
  },
  {
   "cell_type": "code",
   "execution_count": null,
   "id": "4a56a0fe-1f79-4c8d-bc2e-b6145e903d43",
   "metadata": {},
   "outputs": [],
   "source": []
  },
  {
   "cell_type": "code",
   "execution_count": null,
   "id": "90dc6b15-39ef-462f-a4ca-23afe38da460",
   "metadata": {},
   "outputs": [],
   "source": []
  },
  {
   "cell_type": "code",
   "execution_count": null,
   "id": "8679d3f8-7222-4a72-b39d-a3e465b63ab6",
   "metadata": {},
   "outputs": [],
   "source": []
  },
  {
   "cell_type": "markdown",
   "id": "5c6f50d7",
   "metadata": {},
   "source": [
    "**Question**: can you plot `tsd1` as well as the epochs for which `tsd1` is above 0.0?"
   ]
  },
  {
   "cell_type": "code",
   "execution_count": 209,
   "id": "ebe0665e",
   "metadata": {},
   "outputs": [
    {
     "data": {
      "text/plain": [
       "[<matplotlib.lines.Line2D at 0x16a51a010>]"
      ]
     },
     "execution_count": 209,
     "metadata": {},
     "output_type": "execute_result"
    },
    {
     "data": {
      "image/png": "[encoded data removed]",
      "text/plain": [
       "<Figure size 640x480 with 1 Axes>"
      ]
     },
     "metadata": {},
     "output_type": "display_data"
    }
   ],
   "source": [
    "tsd1_threshed = tsd1.threshold(0)\n",
    "\n",
    "fig, ax = plt.subplots(1,1)\n",
    "ax.plot(tsd1.t, tsd1)\n",
    "ax.plot(tsd1_threshed.t, tsd1_threshed)"
   ]
  },
  {
   "cell_type": "markdown",
   "id": "19d50632",
   "metadata": {},
   "source": [
    "## Important\n",
    "\n",
    "\n",
    "**Question:** Does this work?\n",
    "If not, please ask a TA."
   ]
  },
  {
   "cell_type": "code",
   "execution_count": 210,
   "id": "7f82b8e7",
   "metadata": {
    "tags": [
     "render-all"
    ]
   },
   "outputs": [
    {
     "name": "stdout",
     "output_type": "stream",
     "text": [
      "/Users/jorge/Princeton Dropbox/Jorge Yanar/research/workshops/ccn-software-jan-2025/data/Mouse32-140822.nwb\n"
     ]
    }
   ],
   "source": [
    "import workshop_utils\n",
    "path = workshop_utils.fetch_data(\"Mouse32-140822.nwb\")\n",
    "print(path)"
   ]
  },
  {
   "cell_type": "code",
   "execution_count": null,
   "id": "2e7665fa-4944-483b-a3a2-83c40c032475",
   "metadata": {},
   "outputs": [],
   "source": []
  }
 ],
 "metadata": {
  "kernelspec": {
   "display_name": "Python 3 (ipykernel)",
   "language": "python",
   "name": "python3"
  },
  "language_info": {
   "codemirror_mode": {
    "name": "ipython",
    "version": 3
   },
   "file_extension": ".py",
   "mimetype": "text/x-python",
   "name": "python",
   "nbconvert_exporter": "python",
   "pygments_lexer": "ipython3",
   "version": "3.11.11"
  }
 },
 "nbformat": 4,
 "nbformat_minor": 5
}
